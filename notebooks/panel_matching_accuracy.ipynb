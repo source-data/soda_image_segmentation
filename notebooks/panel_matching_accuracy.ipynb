{
 "cells": [
  {
   "cell_type": "code",
   "execution_count": 1,
   "id": "7bc248c8-77a5-4fdc-ba02-bf1fdb529d3c",
   "metadata": {},
   "outputs": [],
   "source": [
    "import os, json"
   ]
  },
  {
   "cell_type": "code",
   "execution_count": 2,
   "id": "082469a3-3f19-41da-8b57-aa81a05477ff",
   "metadata": {},
   "outputs": [],
   "source": [
    "RESULTS = \"../data/panel_description_cache.json\""
   ]
  },
  {
   "cell_type": "code",
   "execution_count": 3,
   "id": "dea59239-0b5a-4907-b050-8b38ca17b80e",
   "metadata": {},
   "outputs": [],
   "source": [
    "if os.path.exists(RESULTS):\n",
    "    with open(RESULTS, 'r') as f:\n",
    "        results = json.load(f)\n"
   ]
  },
  {
   "cell_type": "code",
   "execution_count": 4,
   "id": "b77b5e3a-c0a2-40e1-a93a-16ee1255caf9",
   "metadata": {},
   "outputs": [
    {
     "data": {
      "text/plain": [
       "'\\n{\\n    \"panel_label\": \"d\",\\n    \"panel_caption\": \"Overexpression of the 5E mutant of EndoB1 blocks starvation-induced autophagy in cortical neurons. Data are means ± s.e.m.; n=3.\"\\n}\\n'"
      ]
     },
     "execution_count": 4,
     "metadata": {},
     "output_type": "execute_result"
    }
   ],
   "source": [
    "results['3006_D.png']"
   ]
  },
  {
   "cell_type": "code",
   "execution_count": 5,
   "id": "1a8eb30e-3765-4dee-afa1-2338d344f814",
   "metadata": {},
   "outputs": [],
   "source": [
    "positives, negatives = 0, 0\n",
    "failures = 0\n",
    "for figure_id, caption in results.items():\n",
    "    ground_truth_panel = figure_id.split(\".\")[0].split(\"_\")[-1].lower()\n",
    "    try:\n",
    "        predicted_panel = json.loads(caption)[\"panel_label\"].lower()\n",
    "    except:\n",
    "        failures += 1\n",
    "        continue\n",
    "    if ground_truth_panel == predicted_panel:\n",
    "        positives += 1\n",
    "    else:\n",
    "        negatives += 1"
   ]
  },
  {
   "cell_type": "code",
   "execution_count": 6,
   "id": "6907963e-3a34-41a7-8993-63f9638341df",
   "metadata": {},
   "outputs": [
    {
     "data": {
      "text/plain": [
       "0.974166121648136"
      ]
     },
     "execution_count": 6,
     "metadata": {},
     "output_type": "execute_result"
    }
   ],
   "source": [
    "positives / (positives + negatives)"
   ]
  },
  {
   "cell_type": "code",
   "execution_count": 7,
   "id": "0e47c1dc-53cd-4834-ae62-bfe7fd9a284e",
   "metadata": {},
   "outputs": [
    {
     "data": {
      "text/plain": [
       "79"
      ]
     },
     "execution_count": 7,
     "metadata": {},
     "output_type": "execute_result"
    }
   ],
   "source": [
    "negatives"
   ]
  },
  {
   "cell_type": "code",
   "execution_count": 8,
   "id": "26e7d35e-3a90-452d-ae0c-81f7f480a989",
   "metadata": {},
   "outputs": [
    {
     "data": {
      "text/plain": [
       "3"
      ]
     },
     "execution_count": 8,
     "metadata": {},
     "output_type": "execute_result"
    }
   ],
   "source": [
    "failures"
   ]
  },
  {
   "cell_type": "code",
   "execution_count": null,
   "id": "5b3881e4-a08b-4940-88ee-67b279e1df77",
   "metadata": {},
   "outputs": [],
   "source": []
  }
 ],
 "metadata": {
  "kernelspec": {
   "display_name": "Python 3 (ipykernel)",
   "language": "python",
   "name": "python3"
  },
  "language_info": {
   "codemirror_mode": {
    "name": "ipython",
    "version": 3
   },
   "file_extension": ".py",
   "mimetype": "text/x-python",
   "name": "python",
   "nbconvert_exporter": "python",
   "pygments_lexer": "ipython3",
   "version": "3.9.19"
  }
 },
 "nbformat": 4,
 "nbformat_minor": 5
}
